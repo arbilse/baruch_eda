{
 "cells": [
  {
   "cell_type": "markdown",
   "metadata": {},
   "source": [
    "# Introduction to EDA"
   ]
  },
  {
   "cell_type": "markdown",
   "metadata": {},
   "source": [
    "## import libs"
   ]
  },
  {
   "cell_type": "code",
   "execution_count": null,
   "metadata": {},
   "outputs": [],
   "source": [
    "import numpy as np\n",
    "import pandas as pd\n",
    "import matplotlib.pyplot as plt\n",
    "import seaborn as sns\n",
    "\n",
    "import os\n",
    "os.chdir('C:\\\\Users\\\\arbil\\\\OneDrive\\\\Desktop\\\\baruch_ds_apr_18\\\\ipnyb\\\\data')\n",
    "os.getcwd()"
   ]
  },
  {
   "cell_type": "markdown",
   "metadata": {},
   "source": [
    "## reading data with pandas"
   ]
  },
  {
   "cell_type": "markdown",
   "metadata": {},
   "source": [
    "### data fields\n",
    "\n",
    "    RM: average number of rooms per dwelling\n",
    "    LSTAT: percentage of population considered lower status\n",
    "    PTRATIO: pupil-teacher ratio by town\n",
    "    MEDV: median value of owner-occupied homes"
   ]
  },
  {
   "cell_type": "code",
   "execution_count": null,
   "metadata": {},
   "outputs": [],
   "source": [
    "# Read in the DataFrame\n",
    "\n",
    "df = pd.read_csv('housing.csv')"
   ]
  },
  {
   "cell_type": "markdown",
   "metadata": {},
   "source": [
    "## data inspection"
   ]
  },
  {
   "cell_type": "code",
   "execution_count": null,
   "metadata": {},
   "outputs": [],
   "source": [
    "# top \n",
    "df.head()"
   ]
  },
  {
   "cell_type": "markdown",
   "metadata": {},
   "source": [
    "##  summary statistics with pandas"
   ]
  },
  {
   "cell_type": "code",
   "execution_count": null,
   "metadata": {},
   "outputs": [],
   "source": [
    "df.describe()"
   ]
  },
  {
   "cell_type": "markdown",
   "metadata": {},
   "source": [
    "## histograms with matplotlib"
   ]
  },
  {
   "cell_type": "code",
   "execution_count": null,
   "metadata": {},
   "outputs": [],
   "source": [
    "# histogram plotting function\n",
    "def print_hist(col_name):\n",
    "    df[col_name].plot.hist()\n",
    "    plt.title(col_name)\n",
    "    plt.show()\n",
    "    plt.clf()\n",
    "\n",
    "# plot all columns in dataframe\n",
    "for col_name in df.columns:\n",
    "    print_hist(col_name)"
   ]
  },
  {
   "cell_type": "markdown",
   "metadata": {},
   "source": [
    "## distribution density plots with seaborn\n",
    "\n",
    "<a href=\"https://mathisonian.github.io/kde/\">KDE = Kernel Density Estimate</a>"
   ]
  },
  {
   "cell_type": "code",
   "execution_count": null,
   "metadata": {},
   "outputs": [],
   "source": [
    "# density plotting function\n",
    "def print_dist(col_name):    \n",
    "    sns.distplot(df[col_name],hist=False, kde_kws={'shade':True})\n",
    "    plt.show()\n",
    "    plt.clf()\n",
    "\n",
    "# plot all columns in dataframe\n",
    "for col_name in df.columns:\n",
    "    print_dist(col_name)"
   ]
  },
  {
   "cell_type": "markdown",
   "metadata": {},
   "source": [
    "## boxplot with seaborn"
   ]
  },
  {
   "cell_type": "code",
   "execution_count": null,
   "metadata": {
    "scrolled": false
   },
   "outputs": [],
   "source": [
    "# boxplot plotting function\n",
    "def print_box(col_name):    \n",
    "    sns.boxplot(df[col_name])\n",
    "    plt.show()\n",
    "    plt.clf()\n",
    "\n",
    "# plot all columns in dataframe\n",
    "for col_name in df.columns:\n",
    "    print_box(col_name)"
   ]
  },
  {
   "cell_type": "markdown",
   "metadata": {},
   "source": [
    "## swarmplot with seaborn"
   ]
  },
  {
   "cell_type": "code",
   "execution_count": null,
   "metadata": {},
   "outputs": [],
   "source": [
    "# # swarmplot plotting function\n",
    "# def print_swarm(col_name):    \n",
    "#     sns.swarmplot(df[col_name])\n",
    "#     plt.show()\n",
    "#     plt.clf()\n",
    "\n",
    "# # plot all columns in dataframe\n",
    "# for col_name in df.columns:\n",
    "#     print_swarm(col_name)"
   ]
  },
  {
   "cell_type": "markdown",
   "metadata": {},
   "source": [
    "## pair plots with seaborn"
   ]
  },
  {
   "cell_type": "code",
   "execution_count": null,
   "metadata": {},
   "outputs": [],
   "source": [
    "g = sns.pairplot(df)"
   ]
  },
  {
   "cell_type": "markdown",
   "metadata": {},
   "source": [
    "## correlation with seaborn"
   ]
  },
  {
   "cell_type": "code",
   "execution_count": null,
   "metadata": {},
   "outputs": [],
   "source": [
    "sns.jointplot(x=\"MEDV\",\n",
    "        y=\"RM\",\n",
    "        kind='reg',\n",
    "        data=df)\n",
    "\n",
    "plt.show()\n",
    "plt.clf()"
   ]
  },
  {
   "cell_type": "code",
   "execution_count": null,
   "metadata": {},
   "outputs": [],
   "source": [
    "sns.jointplot(x=\"MEDV\",\n",
    "        y=\"LSTAT\",\n",
    "        kind='reg',\n",
    "        data=df)\n",
    "\n",
    "plt.show()\n",
    "plt.clf()"
   ]
  },
  {
   "cell_type": "code",
   "execution_count": null,
   "metadata": {},
   "outputs": [],
   "source": [
    "sns.jointplot(x=\"RM\",\n",
    "        y=\"LSTAT\",\n",
    "        kind='reg',\n",
    "        data=df)\n",
    "\n",
    "plt.show()\n",
    "plt.clf()"
   ]
  },
  {
   "cell_type": "markdown",
   "metadata": {},
   "source": [
    "### -- code complete --"
   ]
  },
  {
   "cell_type": "code",
   "execution_count": null,
   "metadata": {},
   "outputs": [],
   "source": []
  }
 ],
 "metadata": {
  "kernelspec": {
   "display_name": "Python 3",
   "language": "python",
   "name": "python3"
  },
  "language_info": {
   "codemirror_mode": {
    "name": "ipython",
    "version": 3
   },
   "file_extension": ".py",
   "mimetype": "text/x-python",
   "name": "python",
   "nbconvert_exporter": "python",
   "pygments_lexer": "ipython3",
   "version": "3.6.5"
  }
 },
 "nbformat": 4,
 "nbformat_minor": 2
}
